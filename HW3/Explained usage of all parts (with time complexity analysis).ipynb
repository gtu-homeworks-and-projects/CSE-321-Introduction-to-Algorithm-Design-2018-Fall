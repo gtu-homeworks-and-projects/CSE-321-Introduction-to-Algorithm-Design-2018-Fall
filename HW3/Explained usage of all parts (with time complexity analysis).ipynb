{
 "cells": [
  {
   "cell_type": "code",
   "execution_count": 17,
   "metadata": {},
   "outputs": [
    {
     "name": "stdout",
     "output_type": "stream",
     "text": [
      "Part-1 Results:\n",
      "Vertices of graph: 1 2 3 4 5 6 7 8 9 \n",
      "Adjacents of  1 : [2, 3, 4, 5, 8]\n",
      "Adjacents of  2 : [4]\n",
      "Adjacents of  3 : [5, 6, 9]\n",
      "Adjacents of  4 : [5]\n",
      "Adjacents of  5 : [6]\n",
      "Adjacents of  6 : [7]\n",
      "Adjacents of  7 : [8, 10]\n",
      "Adjacents of  8 : [9, 10]\n",
      "Adjacents of  9 : [10]\n",
      "Depth First Search\n",
      "[1, 8, 10, 9, 5, 6, 7, 4, 3, 2]\n",
      "Breadth First Search\n",
      "[1, 2, 3, 4, 5, 8, 6, 9, 10, 7]\n",
      "Both dfs and bfs has time complexity of O(V+E) where V is vertex count and E is edge count.\n"
     ]
    }
   ],
   "source": [
    "print(\"Part-1 Results:\")\n",
    "exec(open(\"part1.py\").read())\n",
    "print(\"Both dfs and bfs has time complexity of O(V+E) where V is vertex count and E is edge count.\")"
   ]
  },
  {
   "cell_type": "code",
   "execution_count": 9,
   "metadata": {
    "scrolled": true
   },
   "outputs": [
    {
     "name": "stdout",
     "output_type": "stream",
     "text": [
      "Part-2 Results:\n",
      "Player 1 decides chip count: \n",
      "Enter chip count: 9\n",
      "Total chip count: 9\n",
      "Player 2 decides who will start: \n",
      "Enter Player Number: 2\n",
      "Player 2 starts\n",
      "----- Player 2 Turn -----\n",
      "Enter number of chips to remove: 1\n",
      "There are 8 chip(s) left!\n",
      "----- Player 1 Turn -----\n",
      "Enter number of chips to remove: 2\n",
      "There are 6 chip(s) left!\n",
      "----- Player 2 Turn -----\n",
      "Enter number of chips to remove: 1\n",
      "There are 5 chip(s) left!\n",
      "----- Player 1 Turn -----\n",
      "Enter number of chips to remove: 2\n",
      "There are 3 chip(s) left!\n",
      "----- Player 2 Turn -----\n",
      "Enter number of chips to remove: 2\n",
      "There are 1 chip(s) left!\n",
      "----- Player 1 Turn -----\n",
      "Enter number of chips to remove: 2\n",
      "Player 1 wins!!!\n"
     ]
    }
   ],
   "source": [
    "print(\"Part-2 Results:\")\n",
    "exec(open(\"part2.py\").read())\n",
    "print(\"Main game loop has time complexity of O(n) n means chip count\")"
   ]
  },
  {
   "cell_type": "code",
   "execution_count": 10,
   "metadata": {},
   "outputs": [
    {
     "name": "stdout",
     "output_type": "stream",
     "text": [
      "Part-3 Results:\n",
      "[-1, 0, 1, 3, 5] contains at least one value of which its index is equal to itself.\n"
     ]
    }
   ],
   "source": [
    "print(\"Part-3 Results:\")\n",
    "exec(open(\"part3.py\").read())\n",
    "print(\"T(n) = 2T(n/2) + 3, T(n) = θ(n) {using Master Theorem}\")"
   ]
  },
  {
   "cell_type": "code",
   "execution_count": 13,
   "metadata": {},
   "outputs": [
    {
     "name": "stdout",
     "output_type": "stream",
     "text": [
      "Part-4 Results:\n",
      "Max Sum of Contigous Subarray of [5, -6, 6, 7, -6, 7, -4, 3] : 14\n"
     ]
    }
   ],
   "source": [
    "print(\"Part-4 Results:\")\n",
    "exec(open(\"part4.py\").read())\n",
    "print(\"T(n) = 2T(n/2) + n, T(n) = θ(nlog(n)) {using Master Theorem}\")"
   ]
  },
  {
   "cell_type": "code",
   "execution_count": 16,
   "metadata": {},
   "outputs": [
    {
     "name": "stdout",
     "output_type": "stream",
     "text": [
      "Part-5 Results:\n",
      "String ' tobeornottobe ' has pattern ABCDAB : True\n"
     ]
    }
   ],
   "source": [
    "print(\"Part-5 Results:\")\n",
    "exec(open(\"part5.py\").read())"
   ]
  },
  {
   "cell_type": "code",
   "execution_count": null,
   "metadata": {},
   "outputs": [],
   "source": []
  }
 ],
 "metadata": {
  "kernelspec": {
   "display_name": "Python 3",
   "language": "python",
   "name": "python3"
  },
  "language_info": {
   "codemirror_mode": {
    "name": "ipython",
    "version": 3
   },
   "file_extension": ".py",
   "mimetype": "text/x-python",
   "name": "python",
   "nbconvert_exporter": "python",
   "pygments_lexer": "ipython3",
   "version": "3.7.1"
  }
 },
 "nbformat": 4,
 "nbformat_minor": 2
}
